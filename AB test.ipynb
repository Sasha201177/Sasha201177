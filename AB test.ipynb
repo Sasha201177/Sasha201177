{
 "cells": [
  {
   "cell_type": "code",
   "execution_count": 3,
   "id": "594c0e24-f2f3-419e-b7ed-f1228f2641f5",
   "metadata": {},
   "outputs": [],
   "source": [
    "import pandas as pd\n",
    "from scipy import stats\n",
    "import matplotlib.pyplot as plt\n",
    "import seaborn as sns"
   ]
  },
  {
   "cell_type": "code",
   "execution_count": 4,
   "id": "6aaff6f3-ac37-4d0b-b245-8f4384bda2a3",
   "metadata": {},
   "outputs": [
    {
     "name": "stdout",
     "output_type": "stream",
     "text": [
      "<class 'pandas.core.frame.DataFrame'>\n",
      "RangeIndex: 19998 entries, 0 to 19997\n",
      "Data columns (total 4 columns):\n",
      " #   Column      Non-Null Count  Dtype         \n",
      "---  ------      --------------  -----         \n",
      " 0   user_id     19998 non-null  object        \n",
      " 1   timestamp   19998 non-null  datetime64[ns]\n",
      " 2   test_group  19998 non-null  object        \n",
      " 3   conversion  19998 non-null  int64         \n",
      "dtypes: datetime64[ns](1), int64(1), object(2)\n",
      "memory usage: 625.1+ KB\n"
     ]
    },
    {
     "data": {
      "text/html": [
       "<div>\n",
       "<style scoped>\n",
       "    .dataframe tbody tr th:only-of-type {\n",
       "        vertical-align: middle;\n",
       "    }\n",
       "\n",
       "    .dataframe tbody tr th {\n",
       "        vertical-align: top;\n",
       "    }\n",
       "\n",
       "    .dataframe thead th {\n",
       "        text-align: right;\n",
       "    }\n",
       "</style>\n",
       "<table border=\"1\" class=\"dataframe\">\n",
       "  <thead>\n",
       "    <tr style=\"text-align: right;\">\n",
       "      <th></th>\n",
       "      <th>user_id</th>\n",
       "      <th>timestamp</th>\n",
       "      <th>test_group</th>\n",
       "      <th>conversion</th>\n",
       "    </tr>\n",
       "  </thead>\n",
       "  <tbody>\n",
       "    <tr>\n",
       "      <th>0</th>\n",
       "      <td>7f6833e6-1141-4f20-b4b2-f1e31019b1fd</td>\n",
       "      <td>2023-07-04 04:40:55.848109</td>\n",
       "      <td>a</td>\n",
       "      <td>0</td>\n",
       "    </tr>\n",
       "    <tr>\n",
       "      <th>1</th>\n",
       "      <td>e6a6e960-d3f3-4074-a516-ba1e609b211e</td>\n",
       "      <td>2023-07-06 00:26:45.486187</td>\n",
       "      <td>b</td>\n",
       "      <td>0</td>\n",
       "    </tr>\n",
       "    <tr>\n",
       "      <th>2</th>\n",
       "      <td>4d3fbfa5-6847-410a-bac2-477f01d5f400</td>\n",
       "      <td>2023-07-10 20:24:33.639464</td>\n",
       "      <td>b</td>\n",
       "      <td>0</td>\n",
       "    </tr>\n",
       "    <tr>\n",
       "      <th>3</th>\n",
       "      <td>361457d9-a044-48f7-981c-d67dc3861679</td>\n",
       "      <td>2023-07-20 07:04:49.957013</td>\n",
       "      <td>b</td>\n",
       "      <td>0</td>\n",
       "    </tr>\n",
       "    <tr>\n",
       "      <th>4</th>\n",
       "      <td>285cd63d-7d03-427f-a062-1fa2dd2e77d6</td>\n",
       "      <td>2023-07-19 23:27:50.116680</td>\n",
       "      <td>b</td>\n",
       "      <td>0</td>\n",
       "    </tr>\n",
       "  </tbody>\n",
       "</table>\n",
       "</div>"
      ],
      "text/plain": [
       "                                user_id                  timestamp test_group  \\\n",
       "0  7f6833e6-1141-4f20-b4b2-f1e31019b1fd 2023-07-04 04:40:55.848109          a   \n",
       "1  e6a6e960-d3f3-4074-a516-ba1e609b211e 2023-07-06 00:26:45.486187          b   \n",
       "2  4d3fbfa5-6847-410a-bac2-477f01d5f400 2023-07-10 20:24:33.639464          b   \n",
       "3  361457d9-a044-48f7-981c-d67dc3861679 2023-07-20 07:04:49.957013          b   \n",
       "4  285cd63d-7d03-427f-a062-1fa2dd2e77d6 2023-07-19 23:27:50.116680          b   \n",
       "\n",
       "   conversion  \n",
       "0           0  \n",
       "1           0  \n",
       "2           0  \n",
       "3           0  \n",
       "4           0  "
      ]
     },
     "metadata": {},
     "output_type": "display_data"
    },
    {
     "data": {
      "text/html": [
       "<div>\n",
       "<style scoped>\n",
       "    .dataframe tbody tr th:only-of-type {\n",
       "        vertical-align: middle;\n",
       "    }\n",
       "\n",
       "    .dataframe tbody tr th {\n",
       "        vertical-align: top;\n",
       "    }\n",
       "\n",
       "    .dataframe thead tr th {\n",
       "        text-align: left;\n",
       "    }\n",
       "\n",
       "    .dataframe thead tr:last-of-type th {\n",
       "        text-align: right;\n",
       "    }\n",
       "</style>\n",
       "<table border=\"1\" class=\"dataframe\">\n",
       "  <thead>\n",
       "    <tr>\n",
       "      <th></th>\n",
       "      <th colspan=\"8\" halign=\"left\">timestamp</th>\n",
       "      <th colspan=\"8\" halign=\"left\">conversion</th>\n",
       "    </tr>\n",
       "    <tr>\n",
       "      <th></th>\n",
       "      <th>count</th>\n",
       "      <th>mean</th>\n",
       "      <th>min</th>\n",
       "      <th>25%</th>\n",
       "      <th>50%</th>\n",
       "      <th>75%</th>\n",
       "      <th>max</th>\n",
       "      <th>std</th>\n",
       "      <th>count</th>\n",
       "      <th>mean</th>\n",
       "      <th>min</th>\n",
       "      <th>25%</th>\n",
       "      <th>50%</th>\n",
       "      <th>75%</th>\n",
       "      <th>max</th>\n",
       "      <th>std</th>\n",
       "    </tr>\n",
       "    <tr>\n",
       "      <th>test_group</th>\n",
       "      <th></th>\n",
       "      <th></th>\n",
       "      <th></th>\n",
       "      <th></th>\n",
       "      <th></th>\n",
       "      <th></th>\n",
       "      <th></th>\n",
       "      <th></th>\n",
       "      <th></th>\n",
       "      <th></th>\n",
       "      <th></th>\n",
       "      <th></th>\n",
       "      <th></th>\n",
       "      <th></th>\n",
       "      <th></th>\n",
       "      <th></th>\n",
       "    </tr>\n",
       "  </thead>\n",
       "  <tbody>\n",
       "    <tr>\n",
       "      <th>a</th>\n",
       "      <td>10013</td>\n",
       "      <td>2023-07-14 02:34:29.519821312</td>\n",
       "      <td>2023-07-03 01:46:14.688840</td>\n",
       "      <td>2023-07-08 13:48:52.874817024</td>\n",
       "      <td>2023-07-14 03:49:36.002731008</td>\n",
       "      <td>2023-07-19 14:06:28.688054016</td>\n",
       "      <td>2023-07-25 01:41:19.152664</td>\n",
       "      <td>NaN</td>\n",
       "      <td>10013.0</td>\n",
       "      <td>0.061021</td>\n",
       "      <td>0.0</td>\n",
       "      <td>0.0</td>\n",
       "      <td>0.0</td>\n",
       "      <td>0.0</td>\n",
       "      <td>1.0</td>\n",
       "      <td>0.239380</td>\n",
       "    </tr>\n",
       "    <tr>\n",
       "      <th>b</th>\n",
       "      <td>9985</td>\n",
       "      <td>2023-07-13 21:37:07.888925952</td>\n",
       "      <td>2023-07-03 01:42:34.033708</td>\n",
       "      <td>2023-07-08 08:08:48.495631104</td>\n",
       "      <td>2023-07-13 19:14:14.073116928</td>\n",
       "      <td>2023-07-19 09:59:58.771382016</td>\n",
       "      <td>2023-07-25 01:35:59.130658</td>\n",
       "      <td>NaN</td>\n",
       "      <td>9985.0</td>\n",
       "      <td>0.089034</td>\n",
       "      <td>0.0</td>\n",
       "      <td>0.0</td>\n",
       "      <td>0.0</td>\n",
       "      <td>0.0</td>\n",
       "      <td>1.0</td>\n",
       "      <td>0.284806</td>\n",
       "    </tr>\n",
       "  </tbody>\n",
       "</table>\n",
       "</div>"
      ],
      "text/plain": [
       "           timestamp                                 \\\n",
       "               count                           mean   \n",
       "test_group                                            \n",
       "a              10013  2023-07-14 02:34:29.519821312   \n",
       "b               9985  2023-07-13 21:37:07.888925952   \n",
       "\n",
       "                                                                       \\\n",
       "                                   min                            25%   \n",
       "test_group                                                              \n",
       "a           2023-07-03 01:46:14.688840  2023-07-08 13:48:52.874817024   \n",
       "b           2023-07-03 01:42:34.033708  2023-07-08 08:08:48.495631104   \n",
       "\n",
       "                                                                          \\\n",
       "                                      50%                            75%   \n",
       "test_group                                                                 \n",
       "a           2023-07-14 03:49:36.002731008  2023-07-19 14:06:28.688054016   \n",
       "b           2023-07-13 19:14:14.073116928  2023-07-19 09:59:58.771382016   \n",
       "\n",
       "                                            conversion                      \\\n",
       "                                   max  std      count      mean  min  25%   \n",
       "test_group                                                                   \n",
       "a           2023-07-25 01:41:19.152664  NaN    10013.0  0.061021  0.0  0.0   \n",
       "b           2023-07-25 01:35:59.130658  NaN     9985.0  0.089034  0.0  0.0   \n",
       "\n",
       "                                     \n",
       "            50%  75%  max       std  \n",
       "test_group                           \n",
       "a           0.0  0.0  1.0  0.239380  \n",
       "b           0.0  0.0  1.0  0.284806  "
      ]
     },
     "execution_count": 4,
     "metadata": {},
     "output_type": "execute_result"
    }
   ],
   "source": [
    "data=pd.read_csv('/Users/alexandraburenko/Downloads/ab_test_data.csv', parse_dates= ['timestamp'])\n",
    "data.info()\n",
    "display(data.head(5))\n",
    "data.groupby('test_group').describe()"
   ]
  },
  {
   "cell_type": "markdown",
   "id": "e2d13315-dfbd-437f-a09b-e789ae2e6e8b",
   "metadata": {},
   "source": [
    "\n",
    "\n",
    "The number of users in groups A and B relatively:\n",
    "\n",
    "Test_group\ta count =  10013\n",
    "\n",
    "Test_group\tb count = 9985\n",
    "\n",
    "\n",
    "\n",
    "conversion a = \t0.061021 = 6.1 %\n",
    "\n",
    "conversion b = 0.089034 =  8.9 %\n"
   ]
  },
  {
   "cell_type": "code",
   "execution_count": 8,
   "id": "eafaa820-2741-459a-bb02-9382c44893b6",
   "metadata": {},
   "outputs": [
    {
     "name": "stdout",
     "output_type": "stream",
     "text": [
      "test_group\n",
      "a    611\n",
      "b    889\n",
      "dtype: int64\n"
     ]
    }
   ],
   "source": [
    "data_filtred = data[data['conversion'] == 1]\n",
    "conversion_count= data_filtred.groupby('test_group').size()\n",
    "print(conversion_count)"
   ]
  },
  {
   "cell_type": "markdown",
   "id": "5244ac11-2f61-4774-8bb4-26132f3170b4",
   "metadata": {},
   "source": [
    "**visualization to equalize the mean values ​​in groups with 95% confidence intervals**"
   ]
  },
  {
   "cell_type": "code",
   "execution_count": 11,
   "id": "002a7ae8-d149-4c30-a248-e75e7b89ba32",
   "metadata": {},
   "outputs": [
    {
     "data": {
      "image/png": "[encoded data removed]",
      "text/plain": [
       "<Figure size 800x600 with 1 Axes>"
      ]
     },
     "metadata": {},
     "output_type": "display_data"
    }
   ],
   "source": [
    "plt.figure(figsize=(8,6))\n",
    "sns.barplot(x= data['test_group'], y = data['conversion'], errorbar=('ci', 95))\n",
    "plt.title ('A/B Test results')\n",
    "plt.xlabel('Group')\n",
    "plt.ylabel('Mean')\n",
    "plt.savefig('/Users/alexandraburenko/Desktop/DA/AB Test results.png')\n",
    "plt.show()\n"
   ]
  },
  {
   "cell_type": "markdown",
   "id": "2a8d2430-5f18-4e0b-98c3-3eb41d253168",
   "metadata": {},
   "source": [
    "**Graph that shows the change in conversion per hour. **\n",
    "\n",
    "\n",
    "\n"
   ]
  },
  {
   "cell_type": "code",
   "execution_count": 24,
   "id": "b8e92a37-2fde-45e6-9431-713ecd4b9815",
   "metadata": {},
   "outputs": [
    {
     "data": {
      "image/png": "[encoded data removed]",
      "text/plain": [
       "<Figure size 1200x500 with 1 Axes>"
      ]
     },
     "metadata": {},
     "output_type": "display_data"
    }
   ],
   "source": [
    "data['date'] = data['timestamp'].dt.date\n",
    "cumulative_conversion_a = data[data['test_group'] == 'a'].sort_values(by='date')['conversion'].expanding().mean().reset_index(drop=True)\n",
    "cumulative_conversion_b = data[data['test_group'] == 'b'].sort_values(by='date')['conversion'].expanding().mean().reset_index(drop=True)\n",
    "cumulative_conversion_a.index = data[data['test_group'] == 'a'].sort_values(by='timestamp')['timestamp'].values\n",
    "cumulative_conversion_b.index = data[data['test_group'] == 'b'].sort_values(by='timestamp')['timestamp'].values\n",
    "plt.figure(figsize=(12, 5))\n",
    "plt.plot(cumulative_conversion_a.index, cumulative_conversion_a, label='Control (A)', color='blue')\n",
    "plt.plot(cumulative_conversion_b.index, cumulative_conversion_b, label='Variant (B)', color='green')\n",
    "plt.title('Cumulative Conversion Rate Over Time')\n",
    "plt.xlabel('Date')\n",
    "plt.ylabel('Cumulative Conversion Rate')\n",
    "plt.legend()\n",
    "plt.xticks(rotation=45)\n",
    "plt.grid(True)\n",
    "plt.show()"
   ]
  },
  {
   "cell_type": "markdown",
   "id": "249958c7-e80e-4813-a6ef-61f2c16914ee",
   "metadata": {},
   "source": [
    "**The date of the beginning and the end date of the dough, as well as the duration of the dough in days**"
   ]
  },
  {
   "cell_type": "code",
   "execution_count": 345,
   "id": "dc5883d2-83f1-4d23-80b8-d281926f193e",
   "metadata": {},
   "outputs": [
    {
     "name": "stdout",
     "output_type": "stream",
     "text": [
      "First_date = 2023-07-03 01:42:34.033708 \n",
      "Last date = 2023-07-25 01:41:19.152664 \n",
      "Duration = 22\n"
     ]
    }
   ],
   "source": [
    "first_date = data['timestamp'].min()\n",
    "last_date = data['timestamp'].max()\n",
    "duration= pd.date_range(start=first_date, end=last_date).shape[0]\n",
    "print('First_date =', first_date, '\\nLast date =', last_date, '\\nDuration =', duration)"
   ]
  },
  {
   "cell_type": "markdown",
   "id": "f2c9af46-622f-4335-a455-1619fb099752",
   "metadata": {},
   "source": [
    "**Student's t-test**"
   ]
  },
  {
   "cell_type": "code",
   "execution_count": 348,
   "id": "48597fe6-638d-4932-96c0-22ab63dc59da",
   "metadata": {
    "scrolled": true
   },
   "outputs": [
    {
     "name": "stdout",
     "output_type": "stream",
     "text": [
      "t-statistic: -7.53, p-value: 0.0\n",
      "The difference is statistically significant, Null Hypothesis is rejected.\n"
     ]
    }
   ],
   "source": [
    "alpha = 0.05\n",
    "\n",
    "statistic, pvalue = stats.ttest_ind(data[data['test_group'] == 'a']['conversion'],\n",
    "                                    data[data['test_group'] == 'b']['conversion'], \n",
    "                                    alternative='less')\n",
    "\n",
    "print(f't-statistic: {round(statistic, 2)}, p-value: {round(pvalue, 2)}')\n",
    "\n",
    "if pvalue < alpha:\n",
    "    print('The difference is statistically significant, Null Hypothesis is rejected.')\n",
    "else:\n",
    "    print('The difference is insignificant, Null Hypothesis cannot rejected.')\n"
   ]
  },
  {
   "cell_type": "markdown",
   "id": "fbceecfd-8532-4d42-a404-bf191da273e6",
   "metadata": {},
   "source": [
    "**permutation test**"
   ]
  },
  {
   "cell_type": "code",
   "execution_count": 351,
   "id": "217e547a-c72c-4bbc-b18a-83142d994471",
   "metadata": {},
   "outputs": [
    {
     "name": "stdout",
     "output_type": "stream",
     "text": [
      "t-statistic: -7.53, p-value: 0.02\n",
      "The difference is statistically significant, Null Hypothesis is rejected.\n"
     ]
    }
   ],
   "source": [
    "from scipy import stats\n",
    "\n",
    "def statistic(x, y):\n",
    "    return stats.ttest_ind(x, y).statistic\n",
    "\n",
    "alpha = 0.05\n",
    "\n",
    "x= data[data['test_group'] == 'a']['conversion']\n",
    "y= data[data['test_group'] == 'b']['conversion']\n",
    "\n",
    "results = stats.permutation_test((x,y), statistic,  n_resamples=100)\n",
    "\n",
    "print(f't-statistic: {round(results.statistic, 2)}, p-value: {round(results.pvalue, 2)}')\n",
    "if pvalue < alpha:\n",
    "    print('The difference is statistically significant, Null Hypothesis is rejected.')\n",
    "else:\n",
    "    print('The difference is insignificant, Null Hypothesis cannot rejected.')\n",
    "    "
   ]
  },
  {
   "cell_type": "markdown",
   "id": "499d1f76-1d7f-4c0c-801a-33a0be46153d",
   "metadata": {},
   "source": [
    "**Chi-Square (χ²)**"
   ]
  },
  {
   "cell_type": "code",
   "execution_count": 354,
   "id": "d117cfe3-29ed-49d0-a368-f5e6a0236bb9",
   "metadata": {},
   "outputs": [
    {
     "name": "stdout",
     "output_type": "stream",
     "text": [
      "statistic: 56.14. pvalue: 0.0\n",
      "The difference is statistically significant, Null Hypothesis is rejected.\n"
     ]
    }
   ],
   "source": [
    "observed = pd.crosstab(data['test_group'].values, (data['conversion'].values))\n",
    "statistic, pvalue, daf, expected_values=stats.chi2_contingency(observed) \n",
    "\n",
    "print(f'statistic: {round(statistic,2)}. pvalue: {round(pvalue,2)}')\n",
    "                       \n",
    "if pvalue < alpha:\n",
    "    print('The difference is statistically significant, Null Hypothesis is rejected.')\n",
    "else:\n",
    "    print('The difference is insignificant, Null Hypothesis cannot rejected.')"
   ]
  },
  {
   "cell_type": "code",
   "execution_count": null,
   "id": "f3343969-58b5-43d2-b251-64080ca41995",
   "metadata": {},
   "outputs": [],
   "source": []
  }
 ],
 "metadata": {
  "kernelspec": {
   "display_name": "Python 3 (ipykernel)",
   "language": "python",
   "name": "python3"
  },
  "language_info": {
   "codemirror_mode": {
    "name": "ipython",
    "version": 3
   },
   "file_extension": ".py",
   "mimetype": "text/x-python",
   "name": "python",
   "nbconvert_exporter": "python",
   "pygments_lexer": "ipython3",
   "version": "3.11.7"
  }
 },
 "nbformat": 4,
 "nbformat_minor": 5
}
